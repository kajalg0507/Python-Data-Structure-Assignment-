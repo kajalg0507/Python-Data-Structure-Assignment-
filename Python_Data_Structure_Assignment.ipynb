{
  "nbformat": 4,
  "nbformat_minor": 0,
  "metadata": {
    "colab": {
      "provenance": []
    },
    "kernelspec": {
      "name": "python3",
      "display_name": "Python 3"
    },
    "language_info": {
      "name": "python"
    }
  },
  "cells": [
    {
      "cell_type": "markdown",
      "source": [
        "# PYTHON-DATA STRUCTURE ASSIGNMENT THEORY QUESTIONS"
      ],
      "metadata": {
        "id": "dkpbAHSVzatE"
      }
    },
    {
      "cell_type": "markdown",
      "source": [
        "1. What are data structures, and why are they important?\n",
        "\n",
        "- Data structures are a way of organizing, storing, and managing data in a computer so that it can be accessed and used efficiently. They are important because choosing the right data structure for a task can significantly improve a program's performance and memory efficiency.\n",
        "\n",
        "2. Explain the difference between mutable and immutable data types with examples.\n",
        "\n",
        "- Mutable data types are those whose state or contents can be changed after they are created.\n",
        "\n",
        "  - Examples: Lists, dictionaries, and sets. You can add or remove elements from a list after its creation.\n",
        "\n",
        "\n",
        "- Immutable data types are those that cannot be changed after they are created.\n",
        "\n",
        "  - Examples: Strings, tuples, and integers. To change a string, you must create a new string object.\n",
        "\n",
        "3. What are the main differences between lists and tuples in Python?\n",
        "\n",
        "- The main differences are:\n",
        "\n",
        "  - Mutability: Lists are mutable, meaning you can change their content. Tuples are immutable, so their content cannot be altered after creation.\n",
        "\n",
        "  - Syntax: Lists are created with square brackets [], while tuples use parentheses ().\n",
        "\n",
        "  - Performance: Tuples are generally more memory-efficient and slightly faster than lists because they are immutable.\n",
        "\n",
        "4. Describe how dictionaries store data.\n",
        "\n",
        "- Dictionaries store data as\n",
        "\n",
        "key-value pairs. Each unique key maps to a specific value. This structure allows for fast data retrieval because you can look up a value directly using its key, rather than searching through the entire collection.\n",
        "\n",
        "5. Why might you use a set instead of a list in Python?\n",
        "\n",
        "You would use a set instead of a list when:\n",
        "\n",
        "- You need to store only unique elements and automatically discard duplicates.\n",
        "\n",
        "- You need to perform fast membership testing (checking if an element is present).\n",
        "\n",
        "- You need to perform mathematical set operations like union, intersection, or difference.\n",
        "\n",
        "6. What is a string in Python, and how is it different from a list?\n",
        "\n",
        "A string is an immutable sequence of characters used to store text. It is different from a list in a few key ways:\n",
        "\n",
        "- Immutability: Strings are immutable, while lists are mutable.\n",
        "\n",
        "- Homogeneity: Strings can only contain characters. Lists can contain a mix of different data types (e.g., numbers, strings, other lists).\n",
        "\n",
        "7. How do tuples ensure data integrity in Python?\n",
        "\n",
        "Tuples ensure data integrity because they are immutable. Once a tuple is created, its elements cannot be changed, added, or removed. This guarantees that the data remains constant throughout the program's execution, which is useful for protecting important data from accidental modification.\n",
        "\n",
        "8. What is a hash table, and how does it relate to dictionaries in Python?\n",
        "\n",
        "  - A hash table is a data structure that maps keys to values using a hash function.\n",
        "  \n",
        "  - Python's dictionaries are implemented using hash tables.\n",
        "  - When you add a key-value pair to a dictionary, Python uses a hash function to convert the key into a memory address where the value is stored.\n",
        "  - This allows for very fast lookups, insertions, and deletions.\n",
        "\n",
        "9. Can lists contain different data types in Python?\n",
        "\n",
        "  - Yes, lists in Python are very flexible and can contain elements of different data types within the same list.\n",
        "  - For example, my_list = [1, \"hello\", 3.14, True].\n",
        "\n",
        "10. Explain why strings are immutable in Python.\n",
        "\n",
        " Strings are immutable in Python primarily for efficiency and security.\n",
        "  - Efficiency: Since strings cannot be changed, the interpreter can optimize their storage and reuse them in different parts of the program (a concept called \"interning\").\n",
        "\n",
        "  - Security: Because dictionaries use keys that must be hashable (and therefore immutable), using immutable strings as keys ensures the key's hash value never changes.\n",
        "\n",
        "11. What advantages do dictionaries offer over lists for certain tasks?\n",
        "\n",
        " Dictionaries offer advantages over lists when data retrieval is based on a specific identifier or label rather than a numerical index.\n",
        "  - Fast Lookups: Accessing a value by its key in a dictionary is much faster than searching for an element in a long list.\n",
        "\n",
        "  - Readability: Using descriptive keys (e.g., 'name': 'Alice') makes the code more self-explanatory than using indices (e.g., person[0]).\n",
        "\n",
        "12. Describe a scenario where using a tuple would be preferable over a list.\n",
        "\n",
        "- A tuple is preferable when you have a collection of items that should not change.\n",
        "  - For instance, storing the coordinates of a point, like (x, y), is a perfect use case for a tuple. The x and y values are fixed for that specific point, and making them immutable prevents accidental changes.\n",
        "\n",
        "13. How do sets handle duplicate values in Python?\n",
        "\n",
        " Sets automatically enforce uniqueness. If you try to add a duplicate value to a set, it will simply be ignored. The set will only store one instance of each element.\n",
        "\n",
        "14. How does the \"in\" keyword work differently for lists and dictionaries?\n",
        "\n",
        "  - In a list, the in keyword checks for the presence of a value.\n",
        "  - In a dictionary, the in keyword checks for the presence of a key, not a value.\n",
        "\n",
        "15. Can you modify the elements of a tuple? Explain why or why not.\n",
        "\n",
        "  - No, you cannot modify the elements of a tuple.\n",
        "  - Tuples are immutable, which means once they are created, their contents are fixed and cannot be changed.\n",
        "  - Trying to do so will result in a TypeError.\n",
        "\n",
        "16. What is a nested dictionary, and give an example of its use case?\n",
        "\n",
        " A nested dictionary is a dictionary that contains other dictionaries as values. A common use case is to store structured data, such as information about multiple users.\n",
        "\n",
        " Example:"
      ],
      "metadata": {
        "id": "IT7upj2Qz_zd"
      }
    },
    {
      "cell_type": "code",
      "execution_count": 1,
      "metadata": {
        "id": "P2I4kyIXw5RS"
      },
      "outputs": [],
      "source": [
        "users = {\n",
        "    'user1': {'name': 'Alice', 'age': 30},\n",
        "    'user2': {'name': 'Bob', 'age': 25}\n",
        "}"
      ]
    },
    {
      "cell_type": "markdown",
      "source": [
        "17. Describe the time complexity of accessing elements in a dictionary.\n",
        "\n",
        "  - The time complexity for accessing, inserting, or deleting elements in a dictionary is O(1) on average.\n",
        "  - This means the operation takes a constant amount of time, regardless of the size of the dictionary, thanks to its hash table implementation.\n",
        "\n",
        "18. In what situations are lists preferred over dictionaries?\n",
        "\n",
        " Lists are preferred over dictionaries when:\n",
        "\n",
        "  - You have an ordered collection of items.\n",
        "  - The order of elements matters, and you need to access them by their numerical position (index).\n",
        "  - You need to store a simple sequence of items without needing key-based lookups.\n",
        "\n",
        "19. Why are dictionaries considered unordered, and how does that affect data retrieval?\n",
        "\n",
        "  - Historically, dictionaries were considered unordered because their internal hash table implementation did not preserve the insertion order of elements.\n",
        "  - Although since Python 3.7, dictionaries maintain insertion order, you should never rely on this order for data retrieval.\n",
        "  - Data in dictionaries is meant to be retrieved by key, not by position, which is unaffected by order.\n",
        "\n",
        "20. Explain the difference between a list and a dictionary in terms of data retrieval.\n",
        "\n",
        "  - List: Data is retrieved using a numerical, zero-based index (e.g., my_list[0]).\n",
        "  - Dictionary: Data is retrieved using a unique key (e.g., my_dict['name']).\n",
        "\n"
      ],
      "metadata": {
        "id": "6fwlTj7e8mVg"
      }
    },
    {
      "cell_type": "markdown",
      "source": [
        "# PRACTICAL QUESTIONS"
      ],
      "metadata": {
        "id": "h-R6YToq-_xH"
      }
    },
    {
      "cell_type": "code",
      "source": [
        "#1. Write a code to create a string with your name and print it.\n",
        "\n",
        "my_name = \"KAJAL GUPTA\"\n",
        "print(my_name)"
      ],
      "metadata": {
        "colab": {
          "base_uri": "https://localhost:8080/"
        },
        "id": "lL5_l-8B-2e9",
        "outputId": "3494f42f-ee4c-4cea-b655-7a070ab10dd3"
      },
      "execution_count": 2,
      "outputs": [
        {
          "output_type": "stream",
          "name": "stdout",
          "text": [
            "KAJAL GUPTA\n"
          ]
        }
      ]
    },
    {
      "cell_type": "code",
      "source": [
        "#2. Write a code to find the length of the string \"Hello World\"\n",
        "\n",
        "String = \"Hello World\"\n",
        "print(len(String))"
      ],
      "metadata": {
        "colab": {
          "base_uri": "https://localhost:8080/"
        },
        "id": "x5BP2QK-AA6e",
        "outputId": "dfae3882-af5a-4358-87c8-aadc17c0e975"
      },
      "execution_count": 4,
      "outputs": [
        {
          "output_type": "stream",
          "name": "stdout",
          "text": [
            "11\n"
          ]
        }
      ]
    },
    {
      "cell_type": "code",
      "source": [
        "#3. Write a code to slice the first 3 characters from the string \"Python Programming\".\n",
        "\n",
        "text = \"Python Programming\"\n",
        "print(text[:3])"
      ],
      "metadata": {
        "colab": {
          "base_uri": "https://localhost:8080/"
        },
        "id": "-6il_I7WAjqw",
        "outputId": "e23ed553-83fc-4f6a-d29d-2528afbf733c"
      },
      "execution_count": 5,
      "outputs": [
        {
          "output_type": "stream",
          "name": "stdout",
          "text": [
            "Pyt\n"
          ]
        }
      ]
    },
    {
      "cell_type": "code",
      "source": [
        "#4. Write a code to convert the string \"hello\" to uppercase.\n",
        "\n",
        "text = \"hello\"\n",
        "print(text.upper())"
      ],
      "metadata": {
        "colab": {
          "base_uri": "https://localhost:8080/"
        },
        "id": "L8X270D2BYrE",
        "outputId": "cf406e7d-c6cd-49be-a87e-1029fd420262"
      },
      "execution_count": 6,
      "outputs": [
        {
          "output_type": "stream",
          "name": "stdout",
          "text": [
            "HELLO\n"
          ]
        }
      ]
    },
    {
      "cell_type": "code",
      "source": [
        "#5. Write a code to replace the word \"apple\" with \"orange\" in the string \"I like apple\".\n",
        "\n",
        "text = \"I like apple\"\n",
        "print(text.replace(\"apple\", \"orange\"))"
      ],
      "metadata": {
        "colab": {
          "base_uri": "https://localhost:8080/"
        },
        "id": "yrYrretlBqxG",
        "outputId": "1af21e46-0043-4cfe-9a7f-719449bb002e"
      },
      "execution_count": 7,
      "outputs": [
        {
          "output_type": "stream",
          "name": "stdout",
          "text": [
            "I like orange\n"
          ]
        }
      ]
    },
    {
      "cell_type": "code",
      "source": [
        "#6. Write a code to create a list with numbers 1 to 5 and print it.\n",
        "\n",
        "my_list = [1, 2, 3, 4, 5]\n",
        "print(my_list)"
      ],
      "metadata": {
        "colab": {
          "base_uri": "https://localhost:8080/"
        },
        "id": "LaRWXTWjC7k4",
        "outputId": "effbf7cc-4107-40d3-f7d2-32c37a968d72"
      },
      "execution_count": 8,
      "outputs": [
        {
          "output_type": "stream",
          "name": "stdout",
          "text": [
            "[1, 2, 3, 4, 5]\n"
          ]
        }
      ]
    },
    {
      "cell_type": "code",
      "source": [
        "#7. Write a code to append the number 10 to the list [1, 2, 3, 4].\n",
        "\n",
        "my_list = [1, 2, 3, 4]\n",
        "my_list.append(10)\n",
        "print(my_list)"
      ],
      "metadata": {
        "colab": {
          "base_uri": "https://localhost:8080/"
        },
        "id": "2cIxgAuJDP0Y",
        "outputId": "83889393-486a-4b26-ac9e-ae1c6a3701e2"
      },
      "execution_count": 9,
      "outputs": [
        {
          "output_type": "stream",
          "name": "stdout",
          "text": [
            "[1, 2, 3, 4, 10]\n"
          ]
        }
      ]
    },
    {
      "cell_type": "code",
      "source": [
        "#8. Write a code to remove the number 3 from the list [1, 2, 3, 4, 5].\n",
        "\n",
        "my_list = [1, 2, 3, 4, 5]\n",
        "my_list.remove(3)\n",
        "print(my_list)"
      ],
      "metadata": {
        "colab": {
          "base_uri": "https://localhost:8080/"
        },
        "id": "OwONnuH1DbIl",
        "outputId": "f14fbf26-8c6a-435f-f71c-78b1be4c3699"
      },
      "execution_count": 10,
      "outputs": [
        {
          "output_type": "stream",
          "name": "stdout",
          "text": [
            "[1, 2, 4, 5]\n"
          ]
        }
      ]
    },
    {
      "cell_type": "code",
      "source": [
        "#9. Write a code to access the second element in the list ['a', 'b', 'c', 'd'].\n",
        "\n",
        "my_list = ['a', 'b', 'c', 'd']\n",
        "print(my_list[1])"
      ],
      "metadata": {
        "colab": {
          "base_uri": "https://localhost:8080/"
        },
        "id": "xqwyPFjEDs2O",
        "outputId": "30886c9e-793d-4a57-e2bd-d4e928d9d8e5"
      },
      "execution_count": 11,
      "outputs": [
        {
          "output_type": "stream",
          "name": "stdout",
          "text": [
            "b\n"
          ]
        }
      ]
    },
    {
      "cell_type": "code",
      "source": [
        "#10. Write a code to reverse the list [10, 20, 30, 40, 50].\n",
        "\n",
        "my_list = [10, 20, 30, 40, 50]\n",
        "my_list.reverse()\n",
        "print(my_list)"
      ],
      "metadata": {
        "colab": {
          "base_uri": "https://localhost:8080/"
        },
        "id": "eekUYKn4D1-U",
        "outputId": "46ce28d3-488c-4eed-92d2-f3d5a2acc10a"
      },
      "execution_count": 12,
      "outputs": [
        {
          "output_type": "stream",
          "name": "stdout",
          "text": [
            "[50, 40, 30, 20, 10]\n"
          ]
        }
      ]
    },
    {
      "cell_type": "code",
      "source": [
        "#11. Write a code to create a tuple with the elements 100, 200, 300 and print it.\n",
        "\n",
        "my_tuple = (100, 200, 300)\n",
        "print(my_tuple)"
      ],
      "metadata": {
        "colab": {
          "base_uri": "https://localhost:8080/"
        },
        "id": "wL_a2LwMEJhB",
        "outputId": "58b44440-d6c4-4596-dd59-7aa65dc6326d"
      },
      "execution_count": 13,
      "outputs": [
        {
          "output_type": "stream",
          "name": "stdout",
          "text": [
            "(100, 200, 300)\n"
          ]
        }
      ]
    },
    {
      "cell_type": "code",
      "source": [
        "#12. Write a code to access the second-to-last element of the tuple ('red', 'green', 'blue', 'yellow').\n",
        "\n",
        "my_tuple = ('red', 'green', 'blue', 'yellow')\n",
        "print(my_tuple[-2])"
      ],
      "metadata": {
        "colab": {
          "base_uri": "https://localhost:8080/"
        },
        "id": "zNw2CrfYEfH0",
        "outputId": "e41617ad-fc6b-4984-c2b5-dd80b9b5ae58"
      },
      "execution_count": 14,
      "outputs": [
        {
          "output_type": "stream",
          "name": "stdout",
          "text": [
            "blue\n"
          ]
        }
      ]
    },
    {
      "cell_type": "code",
      "source": [
        "#13. Write a code to find the minimum number in the tuple (10, 20, 5, 15).\n",
        "\n",
        "my_tuple = (10, 20, 5, 15)\n",
        "print(min(my_tuple))"
      ],
      "metadata": {
        "colab": {
          "base_uri": "https://localhost:8080/"
        },
        "id": "clGx2ooSEook",
        "outputId": "f49eb403-7da9-47d8-8e32-e532c6ecd467"
      },
      "execution_count": 15,
      "outputs": [
        {
          "output_type": "stream",
          "name": "stdout",
          "text": [
            "5\n"
          ]
        }
      ]
    },
    {
      "cell_type": "code",
      "source": [
        "#14. Write a code to find the index of the element \"cat\" in the tuple ('dog', 'cat', 'rabbit').\n",
        "\n",
        "my_tuple = ('dog', 'cat', 'rabbit')\n",
        "print(my_tuple.index('cat'))"
      ],
      "metadata": {
        "colab": {
          "base_uri": "https://localhost:8080/"
        },
        "id": "oUxYaLSiEyiS",
        "outputId": "a091a4f1-3f66-47df-cdd2-b92fc87e5dfd"
      },
      "execution_count": 16,
      "outputs": [
        {
          "output_type": "stream",
          "name": "stdout",
          "text": [
            "1\n"
          ]
        }
      ]
    },
    {
      "cell_type": "code",
      "source": [
        "#15. Write a code to create a tuple containing three different fruits and check if \"kiwi\" is in it.\n",
        "\n",
        "fruits = ('apple', 'banana', 'orange')\n",
        "print('kiwi' in fruits)"
      ],
      "metadata": {
        "colab": {
          "base_uri": "https://localhost:8080/"
        },
        "id": "KxCB__emFYFz",
        "outputId": "1c372d60-fb77-4b70-fc54-bb619f113812"
      },
      "execution_count": 17,
      "outputs": [
        {
          "output_type": "stream",
          "name": "stdout",
          "text": [
            "False\n"
          ]
        }
      ]
    },
    {
      "cell_type": "code",
      "source": [
        "#16. Write a code to create a set with the elements 'a', 'b', 'c' and print it.\n",
        "\n",
        "my_set = {'a', 'b', 'c'}\n",
        "print(my_set)"
      ],
      "metadata": {
        "colab": {
          "base_uri": "https://localhost:8080/"
        },
        "id": "_BrgC6O3FgXn",
        "outputId": "851f69e6-a330-48d1-b799-722c9298b32e"
      },
      "execution_count": 18,
      "outputs": [
        {
          "output_type": "stream",
          "name": "stdout",
          "text": [
            "{'c', 'b', 'a'}\n"
          ]
        }
      ]
    },
    {
      "cell_type": "code",
      "source": [
        "#17. Write a code to clear all elements from the set {1, 2, 3, 4, 5}.\n",
        "\n",
        "my_set = {1, 2, 3, 4, 5}\n",
        "my_set.clear()\n",
        "print(my_set)"
      ],
      "metadata": {
        "colab": {
          "base_uri": "https://localhost:8080/"
        },
        "id": "FcTA39SEFqyu",
        "outputId": "cbd8a06e-db07-4efe-97dd-ec363e66d4f0"
      },
      "execution_count": 19,
      "outputs": [
        {
          "output_type": "stream",
          "name": "stdout",
          "text": [
            "set()\n"
          ]
        }
      ]
    },
    {
      "cell_type": "code",
      "source": [
        "#18. Write a code to remove the element 4 from the set {1, 2, 3, 4}.\n",
        "\n",
        "my_set = {1, 2, 3, 4}\n",
        "my_set.remove(4)\n",
        "print(my_set)"
      ],
      "metadata": {
        "colab": {
          "base_uri": "https://localhost:8080/"
        },
        "id": "_3p8bLF9Fznm",
        "outputId": "5290e2b2-a829-4d97-ac49-8c53b93131c1"
      },
      "execution_count": 20,
      "outputs": [
        {
          "output_type": "stream",
          "name": "stdout",
          "text": [
            "{1, 2, 3}\n"
          ]
        }
      ]
    },
    {
      "cell_type": "code",
      "source": [
        "#19. Write a code to find the union of two sets {1, 2, 3} and {3, 4, 5}.\n",
        "\n",
        "set1 = {1, 2, 3}\n",
        "set2 = {3, 4, 5}\n",
        "union_set = set1.union(set2)\n",
        "print(union_set)"
      ],
      "metadata": {
        "colab": {
          "base_uri": "https://localhost:8080/"
        },
        "id": "GU9a5dG_F-zT",
        "outputId": "a67b29de-2595-4c24-9f79-4d0cc16dce6b"
      },
      "execution_count": 21,
      "outputs": [
        {
          "output_type": "stream",
          "name": "stdout",
          "text": [
            "{1, 2, 3, 4, 5}\n"
          ]
        }
      ]
    },
    {
      "cell_type": "code",
      "source": [
        "#20. Write a code to find the intersection of two sets {1, 2, 3} and {2, 3, 4}.\n",
        "\n",
        "set1 = {1, 2, 3}\n",
        "set2 = {2, 3, 4}\n",
        "intersection_set = set1.intersection(set2)\n",
        "print(intersection_set)"
      ],
      "metadata": {
        "colab": {
          "base_uri": "https://localhost:8080/"
        },
        "id": "C2g_JjnWGIzh",
        "outputId": "a35e3a5c-577a-4ded-a5e5-5096644358dd"
      },
      "execution_count": 22,
      "outputs": [
        {
          "output_type": "stream",
          "name": "stdout",
          "text": [
            "{2, 3}\n"
          ]
        }
      ]
    },
    {
      "cell_type": "code",
      "source": [
        "#21. Write a code to create a dictionary with the keys \"name\", \"age\", and \"city\", and print it.\n",
        "\n",
        "my_dict = {\n",
        "    \"name\": \"Kajal Gupta\",\n",
        "    \"age\": 25,\n",
        "    \"city\": \"Noida\"\n",
        "}\n",
        "print(my_dict)"
      ],
      "metadata": {
        "colab": {
          "base_uri": "https://localhost:8080/"
        },
        "id": "G_yCMdYBGQ-6",
        "outputId": "feebd94e-c1b9-4c34-f505-02e2e1844176"
      },
      "execution_count": 24,
      "outputs": [
        {
          "output_type": "stream",
          "name": "stdout",
          "text": [
            "{'name': 'Kajal Gupta', 'age': 25, 'city': 'Noida'}\n"
          ]
        }
      ]
    },
    {
      "cell_type": "code",
      "source": [
        "#22. Write a code to add a new key-value pair \"country\": \"USA\" to the dictionary {'name': 'John', 'age': 25}.\n",
        "\n",
        "my_dict = {'name': 'John', 'age': 25}\n",
        "my_dict['country'] = 'USA'\n",
        "print(my_dict)"
      ],
      "metadata": {
        "colab": {
          "base_uri": "https://localhost:8080/"
        },
        "id": "PdFD2M_nGttT",
        "outputId": "cbae28d6-ff93-47c4-9d94-015b3712d8ae"
      },
      "execution_count": 25,
      "outputs": [
        {
          "output_type": "stream",
          "name": "stdout",
          "text": [
            "{'name': 'John', 'age': 25, 'country': 'USA'}\n"
          ]
        }
      ]
    },
    {
      "cell_type": "code",
      "source": [
        "#23. Write a code to access the value associated with the key \"name\" in the dictionary {'name': 'Alice', 'age': 30}.\n",
        "\n",
        "my_dict = {'name': 'Alice', 'age': 30}\n",
        "print(my_dict['name'])"
      ],
      "metadata": {
        "colab": {
          "base_uri": "https://localhost:8080/"
        },
        "id": "hCg3TO07G4LR",
        "outputId": "d6e525d0-c911-467a-af55-047d7e720256"
      },
      "execution_count": 26,
      "outputs": [
        {
          "output_type": "stream",
          "name": "stdout",
          "text": [
            "Alice\n"
          ]
        }
      ]
    },
    {
      "cell_type": "code",
      "source": [
        "#24. Write a code to remove the key \"age\" from the dictionary {'name': 'Bob', 'age': 22, 'city': 'New York'}.\n",
        "\n",
        "my_dict = {'name': 'Bob', 'age': 22, 'city': 'New York'}\n",
        "del my_dict['age']\n",
        "print(my_dict)"
      ],
      "metadata": {
        "colab": {
          "base_uri": "https://localhost:8080/"
        },
        "id": "7zRQXddwHBDF",
        "outputId": "631fcbee-2836-466d-c03a-eafe94635b3d"
      },
      "execution_count": 27,
      "outputs": [
        {
          "output_type": "stream",
          "name": "stdout",
          "text": [
            "{'name': 'Bob', 'city': 'New York'}\n"
          ]
        }
      ]
    },
    {
      "cell_type": "code",
      "source": [
        "#25. Write a code to check if the key \"city\" exists in the dictionary {'name': 'Alice', 'city': 'Paris'}.\n",
        "\n",
        "my_dict = {'name': 'Alice', 'city': 'Paris'}\n",
        "print('city' in my_dict)"
      ],
      "metadata": {
        "colab": {
          "base_uri": "https://localhost:8080/"
        },
        "id": "Ev3OUgbLHNuA",
        "outputId": "da7dbaaa-41ed-4bcf-ab44-a6847c98a55f"
      },
      "execution_count": 28,
      "outputs": [
        {
          "output_type": "stream",
          "name": "stdout",
          "text": [
            "True\n"
          ]
        }
      ]
    },
    {
      "cell_type": "code",
      "source": [
        "#26. Write a code to create a list, a tuple, and a dictionary, and print them all.\n",
        "\n",
        "my_list = [1, 'a', True]\n",
        "my_tuple = (2, 'b', False)\n",
        "my_dict = {'key': 'value'}\n",
        "\n",
        "print(\"List:\", my_list)\n",
        "print(\"Tuple:\", my_tuple)\n",
        "print(\"Dictionary:\", my_dict)"
      ],
      "metadata": {
        "colab": {
          "base_uri": "https://localhost:8080/"
        },
        "id": "oQjSIg7KHSw-",
        "outputId": "a05cbaa1-2808-4153-b336-611b218d187e"
      },
      "execution_count": 29,
      "outputs": [
        {
          "output_type": "stream",
          "name": "stdout",
          "text": [
            "List: [1, 'a', True]\n",
            "Tuple: (2, 'b', False)\n",
            "Dictionary: {'key': 'value'}\n"
          ]
        }
      ]
    },
    {
      "cell_type": "code",
      "source": [
        "#27. Write a code to create a list of 5 random numbers between 1 and 100, sort it in ascending order, and print the result. (replaced)\n",
        "\n",
        "import random\n",
        "\n",
        "random_numbers = [random.randint(1, 100) for _ in range(5)]\n",
        "print(f\"Original list: {random_numbers}\")\n",
        "random_numbers.sort()\n",
        "print(f\"Sorted list: {random_numbers}\")"
      ],
      "metadata": {
        "colab": {
          "base_uri": "https://localhost:8080/"
        },
        "id": "ZWA9yr-mHnvl",
        "outputId": "d525e0c2-6052-4f80-a32a-a812113b69cf"
      },
      "execution_count": 30,
      "outputs": [
        {
          "output_type": "stream",
          "name": "stdout",
          "text": [
            "Original list: [52, 57, 8, 28, 72]\n",
            "Sorted list: [8, 28, 52, 57, 72]\n"
          ]
        }
      ]
    },
    {
      "cell_type": "code",
      "source": [
        "#28. Write a code to create a list with strings and print the element at the third index.\n",
        "\n",
        "my_list = [\"apple\", \"banana\", \"cherry\", \"date\"]\n",
        "print(my_list[2]) # Third element is at index 2"
      ],
      "metadata": {
        "colab": {
          "base_uri": "https://localhost:8080/"
        },
        "id": "Vc1M-BDdIBWg",
        "outputId": "5130e546-2b0e-4af6-b036-1f405925f506"
      },
      "execution_count": 31,
      "outputs": [
        {
          "output_type": "stream",
          "name": "stdout",
          "text": [
            "cherry\n"
          ]
        }
      ]
    },
    {
      "cell_type": "code",
      "source": [
        "#29. Write a code to combine two dictionaries into one and print the result.\n",
        "\n",
        "dict1 = {'a': 1, 'b': 2}\n",
        "dict2 = {'c': 3, 'd': 4}\n",
        "dict1.update(dict2)\n",
        "print(dict1)"
      ],
      "metadata": {
        "colab": {
          "base_uri": "https://localhost:8080/"
        },
        "id": "jBaQJP6tIJyR",
        "outputId": "fcabab10-82f1-4712-9413-e8a94b03c197"
      },
      "execution_count": 32,
      "outputs": [
        {
          "output_type": "stream",
          "name": "stdout",
          "text": [
            "{'a': 1, 'b': 2, 'c': 3, 'd': 4}\n"
          ]
        }
      ]
    },
    {
      "cell_type": "code",
      "source": [
        "#30. Write a code to convert a list of strings into a set.\n",
        "\n",
        "string_list = [\"apple\", \"banana\", \"apple\", \"cherry\"]\n",
        "string_set = set(string_list)\n",
        "print(string_set)"
      ],
      "metadata": {
        "colab": {
          "base_uri": "https://localhost:8080/"
        },
        "id": "SFhPMoF1IQid",
        "outputId": "29b0137a-7311-4cfd-a403-93df6a4f78ce"
      },
      "execution_count": 33,
      "outputs": [
        {
          "output_type": "stream",
          "name": "stdout",
          "text": [
            "{'cherry', 'apple', 'banana'}\n"
          ]
        }
      ]
    }
  ]
}